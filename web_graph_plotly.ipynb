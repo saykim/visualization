{
 "cells": [
  {
   "cell_type": "code",
   "execution_count": 2,
   "metadata": {},
   "outputs": [
    {
     "data": {
      "text/html": [
       "        <script type=\"text/javascript\">\n",
       "        window.PlotlyConfig = {MathJaxConfig: 'local'};\n",
       "        if (window.MathJax) {MathJax.Hub.Config({SVG: {font: \"STIX-Web\"}});}\n",
       "        if (typeof require !== 'undefined') {\n",
       "        require.undef(\"plotly\");\n",
       "        requirejs.config({\n",
       "            paths: {\n",
       "                'plotly': ['https://cdn.plot.ly/plotly-latest.min']\n",
       "            }\n",
       "        });\n",
       "        require(['plotly'], function(Plotly) {\n",
       "            window._Plotly = Plotly;\n",
       "        });\n",
       "        }\n",
       "        </script>\n",
       "        "
      ]
     },
     "metadata": {},
     "output_type": "display_data"
    }
   ],
   "source": [
    "import plotly\n",
    "from plotly.graph_objs import Scatter,Layout\n",
    "from plotly.offline import download_plotlyjs, init_notebook_mode, plot,iplot \n",
    "import plotly.graph_objs as go \n",
    "import pandas as pd\n",
    "import numpy as np\n",
    "\n",
    "init_notebook_mode(connected=True) "
   ]
  },
  {
   "cell_type": "code",
   "execution_count": 3,
   "metadata": {},
   "outputs": [],
   "source": [
    "df= pd.read_csv('paju_reuse_median_1H_~0709.csv', encoding='euc-kr') #그래프를 그리고자 하는 DATA 입력"
   ]
  },
  {
   "cell_type": "code",
   "execution_count": 4,
   "metadata": {},
   "outputs": [],
   "source": [
    "df['시각'] = pd.to_datetime(df['시각'])"
   ]
  },
  {
   "cell_type": "code",
   "execution_count": 5,
   "metadata": {},
   "outputs": [],
   "source": [
    "df.set_index('시각', inplace=True)"
   ]
  },
  {
   "cell_type": "code",
   "execution_count": 6,
   "metadata": {},
   "outputs": [
    {
     "data": {
      "text/html": [
       "<div>\n",
       "<style scoped>\n",
       "    .dataframe tbody tr th:only-of-type {\n",
       "        vertical-align: middle;\n",
       "    }\n",
       "\n",
       "    .dataframe tbody tr th {\n",
       "        vertical-align: top;\n",
       "    }\n",
       "\n",
       "    .dataframe thead th {\n",
       "        text-align: right;\n",
       "    }\n",
       "</style>\n",
       "<table border=\"1\" class=\"dataframe\">\n",
       "  <thead>\n",
       "    <tr style=\"text-align: right;\">\n",
       "      <th></th>\n",
       "      <th>증설탁도</th>\n",
       "      <th>전처리수SDI</th>\n",
       "      <th>원수저류조 후단 온도계</th>\n",
       "      <th>A전도도</th>\n",
       "      <th>B전도도</th>\n",
       "      <th>C전도도</th>\n",
       "      <th>D전도도</th>\n",
       "      <th>E전도도</th>\n",
       "      <th>F전도도</th>\n",
       "      <th>A생산량</th>\n",
       "      <th>...</th>\n",
       "      <th>C유입량</th>\n",
       "      <th>D유입량</th>\n",
       "      <th>E유입량</th>\n",
       "      <th>F유입량</th>\n",
       "      <th>A차압</th>\n",
       "      <th>B차압</th>\n",
       "      <th>C차압</th>\n",
       "      <th>D차압</th>\n",
       "      <th>E차압</th>\n",
       "      <th>F차압</th>\n",
       "    </tr>\n",
       "    <tr>\n",
       "      <th>시각</th>\n",
       "      <th></th>\n",
       "      <th></th>\n",
       "      <th></th>\n",
       "      <th></th>\n",
       "      <th></th>\n",
       "      <th></th>\n",
       "      <th></th>\n",
       "      <th></th>\n",
       "      <th></th>\n",
       "      <th></th>\n",
       "      <th></th>\n",
       "      <th></th>\n",
       "      <th></th>\n",
       "      <th></th>\n",
       "      <th></th>\n",
       "      <th></th>\n",
       "      <th></th>\n",
       "      <th></th>\n",
       "      <th></th>\n",
       "      <th></th>\n",
       "      <th></th>\n",
       "    </tr>\n",
       "  </thead>\n",
       "  <tbody>\n",
       "    <tr>\n",
       "      <th>2019-01-01 00:00:00</th>\n",
       "      <td>0.078437</td>\n",
       "      <td>3.00375</td>\n",
       "      <td>15.956250</td>\n",
       "      <td>12.25000</td>\n",
       "      <td>7.2500</td>\n",
       "      <td>7.8125</td>\n",
       "      <td>7.7500</td>\n",
       "      <td>14.6875</td>\n",
       "      <td>46.3125</td>\n",
       "      <td>342.171875</td>\n",
       "      <td>...</td>\n",
       "      <td>460.500000</td>\n",
       "      <td>456.281250</td>\n",
       "      <td>354.250000</td>\n",
       "      <td>0.0</td>\n",
       "      <td>7.543750</td>\n",
       "      <td>6.482500</td>\n",
       "      <td>5.988125</td>\n",
       "      <td>5.685000</td>\n",
       "      <td>7.64500</td>\n",
       "      <td>-0.07625</td>\n",
       "    </tr>\n",
       "    <tr>\n",
       "      <th>2019-01-01 01:00:00</th>\n",
       "      <td>0.078437</td>\n",
       "      <td>2.93000</td>\n",
       "      <td>15.968750</td>\n",
       "      <td>11.96875</td>\n",
       "      <td>7.1875</td>\n",
       "      <td>7.6250</td>\n",
       "      <td>7.6250</td>\n",
       "      <td>14.2500</td>\n",
       "      <td>46.0000</td>\n",
       "      <td>341.000000</td>\n",
       "      <td>...</td>\n",
       "      <td>458.625000</td>\n",
       "      <td>455.078125</td>\n",
       "      <td>352.546875</td>\n",
       "      <td>0.0</td>\n",
       "      <td>7.538750</td>\n",
       "      <td>6.470000</td>\n",
       "      <td>5.985625</td>\n",
       "      <td>5.678750</td>\n",
       "      <td>7.65875</td>\n",
       "      <td>-0.07750</td>\n",
       "    </tr>\n",
       "    <tr>\n",
       "      <th>2019-01-01 02:00:00</th>\n",
       "      <td>0.078750</td>\n",
       "      <td>2.94375</td>\n",
       "      <td>15.871875</td>\n",
       "      <td>11.87500</td>\n",
       "      <td>7.1250</td>\n",
       "      <td>7.6250</td>\n",
       "      <td>7.5000</td>\n",
       "      <td>14.1875</td>\n",
       "      <td>46.1250</td>\n",
       "      <td>340.937500</td>\n",
       "      <td>...</td>\n",
       "      <td>458.125000</td>\n",
       "      <td>454.937500</td>\n",
       "      <td>352.296875</td>\n",
       "      <td>0.0</td>\n",
       "      <td>7.548749</td>\n",
       "      <td>6.481875</td>\n",
       "      <td>5.985000</td>\n",
       "      <td>5.676875</td>\n",
       "      <td>7.67375</td>\n",
       "      <td>-0.07750</td>\n",
       "    </tr>\n",
       "    <tr>\n",
       "      <th>2019-01-01 03:00:00</th>\n",
       "      <td>0.078562</td>\n",
       "      <td>0.00000</td>\n",
       "      <td>15.918750</td>\n",
       "      <td>11.75000</td>\n",
       "      <td>7.0625</td>\n",
       "      <td>7.5000</td>\n",
       "      <td>7.3750</td>\n",
       "      <td>14.1250</td>\n",
       "      <td>46.1250</td>\n",
       "      <td>339.468750</td>\n",
       "      <td>...</td>\n",
       "      <td>458.281250</td>\n",
       "      <td>454.625000</td>\n",
       "      <td>351.781250</td>\n",
       "      <td>0.0</td>\n",
       "      <td>7.556251</td>\n",
       "      <td>6.480000</td>\n",
       "      <td>5.985625</td>\n",
       "      <td>5.678750</td>\n",
       "      <td>7.68625</td>\n",
       "      <td>-0.07875</td>\n",
       "    </tr>\n",
       "    <tr>\n",
       "      <th>2019-01-01 04:00:00</th>\n",
       "      <td>0.078562</td>\n",
       "      <td>0.00000</td>\n",
       "      <td>15.950000</td>\n",
       "      <td>11.81250</td>\n",
       "      <td>7.1250</td>\n",
       "      <td>7.6250</td>\n",
       "      <td>7.4375</td>\n",
       "      <td>14.1250</td>\n",
       "      <td>46.1250</td>\n",
       "      <td>339.812500</td>\n",
       "      <td>...</td>\n",
       "      <td>458.546875</td>\n",
       "      <td>455.234375</td>\n",
       "      <td>350.656250</td>\n",
       "      <td>0.0</td>\n",
       "      <td>7.565625</td>\n",
       "      <td>6.490000</td>\n",
       "      <td>5.991250</td>\n",
       "      <td>5.679999</td>\n",
       "      <td>7.70125</td>\n",
       "      <td>-0.07625</td>\n",
       "    </tr>\n",
       "  </tbody>\n",
       "</table>\n",
       "<p>5 rows × 51 columns</p>\n",
       "</div>"
      ],
      "text/plain": [
       "                         증설탁도  전처리수SDI  원수저류조 후단 온도계      A전도도    B전도도  \\\n",
       "시각                                                                       \n",
       "2019-01-01 00:00:00  0.078437  3.00375     15.956250  12.25000  7.2500   \n",
       "2019-01-01 01:00:00  0.078437  2.93000     15.968750  11.96875  7.1875   \n",
       "2019-01-01 02:00:00  0.078750  2.94375     15.871875  11.87500  7.1250   \n",
       "2019-01-01 03:00:00  0.078562  0.00000     15.918750  11.75000  7.0625   \n",
       "2019-01-01 04:00:00  0.078562  0.00000     15.950000  11.81250  7.1250   \n",
       "\n",
       "                       C전도도    D전도도     E전도도     F전도도        A생산량  ...  \\\n",
       "시각                                                                 ...   \n",
       "2019-01-01 00:00:00  7.8125  7.7500  14.6875  46.3125  342.171875  ...   \n",
       "2019-01-01 01:00:00  7.6250  7.6250  14.2500  46.0000  341.000000  ...   \n",
       "2019-01-01 02:00:00  7.6250  7.5000  14.1875  46.1250  340.937500  ...   \n",
       "2019-01-01 03:00:00  7.5000  7.3750  14.1250  46.1250  339.468750  ...   \n",
       "2019-01-01 04:00:00  7.6250  7.4375  14.1250  46.1250  339.812500  ...   \n",
       "\n",
       "                           C유입량        D유입량        E유입량  F유입량       A차압  \\\n",
       "시각                                                                        \n",
       "2019-01-01 00:00:00  460.500000  456.281250  354.250000   0.0  7.543750   \n",
       "2019-01-01 01:00:00  458.625000  455.078125  352.546875   0.0  7.538750   \n",
       "2019-01-01 02:00:00  458.125000  454.937500  352.296875   0.0  7.548749   \n",
       "2019-01-01 03:00:00  458.281250  454.625000  351.781250   0.0  7.556251   \n",
       "2019-01-01 04:00:00  458.546875  455.234375  350.656250   0.0  7.565625   \n",
       "\n",
       "                          B차압       C차압       D차압      E차압      F차압  \n",
       "시각                                                                   \n",
       "2019-01-01 00:00:00  6.482500  5.988125  5.685000  7.64500 -0.07625  \n",
       "2019-01-01 01:00:00  6.470000  5.985625  5.678750  7.65875 -0.07750  \n",
       "2019-01-01 02:00:00  6.481875  5.985000  5.676875  7.67375 -0.07750  \n",
       "2019-01-01 03:00:00  6.480000  5.985625  5.678750  7.68625 -0.07875  \n",
       "2019-01-01 04:00:00  6.490000  5.991250  5.679999  7.70125 -0.07625  \n",
       "\n",
       "[5 rows x 51 columns]"
      ]
     },
     "execution_count": 6,
     "metadata": {},
     "output_type": "execute_result"
    }
   ],
   "source": [
    "df.head()"
   ]
  },
  {
   "cell_type": "code",
   "execution_count": 7,
   "metadata": {},
   "outputs": [
    {
     "data": {
      "text/plain": [
       "Index(['증설탁도', '전처리수SDI', '원수저류조 후단 온도계', 'A전도도', 'B전도도', 'C전도도', 'D전도도',\n",
       "       'E전도도', 'F전도도', 'A생산량', 'A농축수량', 'B생산량', 'B농축수량', 'C생산량', 'C농축수량',\n",
       "       'D생산량', 'D농축수량', 'E생산량', 'E농축수량', 'F생산량', 'F농축수량', 'A유입압', 'A생산압',\n",
       "       'A농축압', 'B유입압', 'B생산압', 'B농축압', 'C유입압', 'C생산압', 'C농축압', 'D유입압', 'D생산압',\n",
       "       'D농축압', 'E유입압', 'E생산압', 'E농축압', 'F유입압', 'F생산압', 'F농축압', 'A유입량', 'B유입량',\n",
       "       'C유입량', 'D유입량', 'E유입량', 'F유입량', 'A차압', 'B차압', 'C차압', 'D차압', 'E차압',\n",
       "       'F차압'],\n",
       "      dtype='object')"
      ]
     },
     "execution_count": 7,
     "metadata": {},
     "output_type": "execute_result"
    }
   ],
   "source": [
    "df.keys()"
   ]
  },
  {
   "cell_type": "markdown",
   "metadata": {},
   "source": [
    "### RO A"
   ]
  },
  {
   "cell_type": "code",
   "execution_count": 8,
   "metadata": {},
   "outputs": [
    {
     "data": {
      "text/plain": [
       "'RO_A.html'"
      ]
     },
     "execution_count": 8,
     "metadata": {},
     "output_type": "execute_result"
    }
   ],
   "source": [
    "import plotly.plotly as py\n",
    "import plotly.graph_objs as go\n",
    "\n",
    "trace1 = go.Scatter(\n",
    "    x=df.index,\n",
    "    y=df['A차압'],\n",
    "    name='A차압',\n",
    "    mode = 'markers',\n",
    "    opacity = 0.7\n",
    ")\n",
    "trace2 = go.Scatter(\n",
    "    x=df.index,\n",
    "    y=df['A생산량'],\n",
    "    name='A생산량',\n",
    "    yaxis='y2',\n",
    "    mode = 'markers',\n",
    "    opacity = 0.7\n",
    ")\n",
    "\n",
    "data = [trace1, trace2]\n",
    "\n",
    "layout = go.Layout(\n",
    "    title='RO_A필터 차압/생산량',\n",
    "    yaxis=dict(\n",
    "        title='차압'\n",
    "    ),\n",
    "    yaxis2=dict(\n",
    "        title='생산량',\n",
    "        titlefont=dict(color='rgb(148, 103, 189)'),\n",
    "        tickfont=dict(color='rgb(148, 103, 189)'),\n",
    "        overlaying='y',\n",
    "        side='right'\n",
    "    )\n",
    ")\n",
    "fig = go.Figure(data=data, layout=layout)\n",
    "\n",
    "plot(fig, filename='RO_A.html') #offline 그래프 생성"
   ]
  },
  {
   "cell_type": "markdown",
   "metadata": {},
   "source": [
    "### RO B"
   ]
  },
  {
   "cell_type": "code",
   "execution_count": 10,
   "metadata": {},
   "outputs": [
    {
     "data": {
      "text/plain": [
       "'RO_B.html'"
      ]
     },
     "execution_count": 10,
     "metadata": {},
     "output_type": "execute_result"
    }
   ],
   "source": [
    "import plotly.plotly as py\n",
    "import plotly.graph_objs as go\n",
    "\n",
    "trace1 = go.Scatter(\n",
    "    x=df.index,\n",
    "    y=df['B차압'],\n",
    "    name='B차압',\n",
    "    mode = 'markers',\n",
    "    opacity = 0.7\n",
    ")\n",
    "trace2 = go.Scatter(\n",
    "    x=df.index,\n",
    "    y=df['B생산량'],\n",
    "    name='B생산량',\n",
    "    yaxis='y2',\n",
    "    mode = 'markers',\n",
    "    opacity = 0.7\n",
    ")\n",
    "\n",
    "data = [trace1, trace2]\n",
    "\n",
    "layout = go.Layout(\n",
    "    title='RO_B필터 차압/생산량',\n",
    "    yaxis=dict(\n",
    "        title='차압'\n",
    "    ),\n",
    "    yaxis2=dict(\n",
    "        title='생산량',\n",
    "        titlefont=dict(color='rgb(148, 103, 189)'),\n",
    "        tickfont=dict(color='rgb(148, 103, 189)'),\n",
    "        overlaying='y',\n",
    "        side='right'\n",
    "    )\n",
    ")\n",
    "fig = go.Figure(data=data, layout=layout)\n",
    "\n",
    "plot(fig, filename='RO_B.html') #offline 그래프 생성"
   ]
  },
  {
   "cell_type": "markdown",
   "metadata": {},
   "source": [
    "### RO C"
   ]
  },
  {
   "cell_type": "code",
   "execution_count": 11,
   "metadata": {},
   "outputs": [
    {
     "data": {
      "text/plain": [
       "'RO_C.html'"
      ]
     },
     "execution_count": 11,
     "metadata": {},
     "output_type": "execute_result"
    }
   ],
   "source": [
    "trace1 = go.Scatter(\n",
    "    x=df.index,\n",
    "    y=df['C차압'],\n",
    "    name='C차압',\n",
    "    mode = 'markers',\n",
    "    opacity = 0.7\n",
    ")\n",
    "trace2 = go.Scatter(\n",
    "    x=df.index,\n",
    "    y=df['C생산량'],\n",
    "    name='C생산량',\n",
    "    yaxis='y2',\n",
    "    mode = 'markers',\n",
    "    opacity = 0.7\n",
    ")\n",
    "\n",
    "data = [trace1, trace2]\n",
    "\n",
    "layout = go.Layout(\n",
    "    title='RO_C필터 차압/생산량',\n",
    "    yaxis=dict(\n",
    "        title='차압'\n",
    "    ),\n",
    "    yaxis2=dict(\n",
    "        title='생산량',\n",
    "        titlefont=dict(color='rgb(148, 103, 189)'),\n",
    "        tickfont=dict(color='rgb(148, 103, 189)'),\n",
    "        overlaying='y',\n",
    "        side='right'\n",
    "    )\n",
    ")\n",
    "fig = go.Figure(data=data, layout=layout)\n",
    "\n",
    "plot(fig, filename='RO_C.html') #offline 그래프 생성"
   ]
  },
  {
   "cell_type": "markdown",
   "metadata": {},
   "source": [
    "### RO D"
   ]
  },
  {
   "cell_type": "code",
   "execution_count": 12,
   "metadata": {},
   "outputs": [
    {
     "data": {
      "text/plain": [
       "'RO_D.html'"
      ]
     },
     "execution_count": 12,
     "metadata": {},
     "output_type": "execute_result"
    }
   ],
   "source": [
    "trace1 = go.Scatter(\n",
    "    x=df.index,\n",
    "    y=df['D차압'],\n",
    "    name='D차압',\n",
    "    mode = 'markers',\n",
    "    opacity = 0.7\n",
    ")\n",
    "trace2 = go.Scatter(\n",
    "    x=df.index,\n",
    "    y=df['D생산량'],\n",
    "    name='D생산량',\n",
    "    yaxis='y2',\n",
    "    mode = 'markers',\n",
    "    opacity = 0.7\n",
    ")\n",
    "\n",
    "data = [trace1, trace2]\n",
    "\n",
    "layout = go.Layout(\n",
    "    title='RO_D필터 차압/생산량',\n",
    "    yaxis=dict(\n",
    "        title='차압'\n",
    "    ),\n",
    "    yaxis2=dict(\n",
    "        title='생산량',\n",
    "        titlefont=dict(color='rgb(148, 103, 189)'),\n",
    "        tickfont=dict(color='rgb(148, 103, 189)'),\n",
    "        overlaying='y',\n",
    "        side='right'\n",
    "    )\n",
    ")\n",
    "fig = go.Figure(data=data, layout=layout)\n",
    "\n",
    "plot(fig, filename='RO_D.html') #offline 그래프 생성"
   ]
  },
  {
   "cell_type": "markdown",
   "metadata": {},
   "source": [
    "### RO_E"
   ]
  },
  {
   "cell_type": "code",
   "execution_count": 13,
   "metadata": {},
   "outputs": [
    {
     "data": {
      "text/plain": [
       "'RO_E.html'"
      ]
     },
     "execution_count": 13,
     "metadata": {},
     "output_type": "execute_result"
    }
   ],
   "source": [
    "trace1 = go.Scatter(\n",
    "    x=df.index,\n",
    "    y=df['E차압'],\n",
    "    name='E차압',\n",
    "    mode = 'markers',\n",
    "    opacity = 0.7\n",
    ")\n",
    "trace2 = go.Scatter(\n",
    "    x=df.index,\n",
    "    y=df['E생산량'],\n",
    "    name='E생산량',\n",
    "    yaxis='y2',\n",
    "    mode = 'markers',\n",
    "    opacity = 0.7\n",
    ")\n",
    "\n",
    "data = [trace1, trace2]\n",
    "\n",
    "layout = go.Layout(\n",
    "    title='RO_E필터 차압/생산량',\n",
    "    yaxis=dict(\n",
    "        title='차압'\n",
    "    ),\n",
    "    yaxis2=dict(\n",
    "        title='생산량',\n",
    "        titlefont=dict(color='rgb(148, 103, 189)'),\n",
    "        tickfont=dict(color='rgb(148, 103, 189)'),\n",
    "        overlaying='y',\n",
    "        side='right'\n",
    "    )\n",
    ")\n",
    "fig = go.Figure(data=data, layout=layout)\n",
    "\n",
    "plot(fig, filename='RO_E.html') #offline 그래프 생성"
   ]
  },
  {
   "cell_type": "markdown",
   "metadata": {},
   "source": [
    "### RO_F"
   ]
  },
  {
   "cell_type": "code",
   "execution_count": 14,
   "metadata": {},
   "outputs": [
    {
     "data": {
      "text/plain": [
       "'RO_F.html'"
      ]
     },
     "execution_count": 14,
     "metadata": {},
     "output_type": "execute_result"
    }
   ],
   "source": [
    "trace1 = go.Scatter(\n",
    "    x=df.index,\n",
    "    y=df['F차압'],\n",
    "    name='F차압',\n",
    "    mode = 'markers',\n",
    "    opacity = 0.7\n",
    ")\n",
    "trace2 = go.Scatter(\n",
    "    x=df.index,\n",
    "    y=df['F생산량'],\n",
    "    name='F생산량',\n",
    "    yaxis='y2',\n",
    "    mode = 'markers',\n",
    "    opacity = 0.7\n",
    ")\n",
    "\n",
    "data = [trace1, trace2]\n",
    "\n",
    "layout = go.Layout(\n",
    "    title='RO_F필터 차압/생산량',\n",
    "    yaxis=dict(\n",
    "        title='차압'\n",
    "    ),\n",
    "    yaxis2=dict(\n",
    "        title='생산량',\n",
    "        titlefont=dict(color='rgb(148, 103, 189)'),\n",
    "        tickfont=dict(color='rgb(148, 103, 189)'),\n",
    "        overlaying='y',\n",
    "        side='right'\n",
    "    )\n",
    ")\n",
    "fig = go.Figure(data=data, layout=layout)\n",
    "\n",
    "plot(fig, filename='RO_F.html') #offline 그래프 생성"
   ]
  },
  {
   "cell_type": "markdown",
   "metadata": {},
   "source": [
    "### 증설탁도, 전처리수SDI"
   ]
  },
  {
   "cell_type": "code",
   "execution_count": 15,
   "metadata": {},
   "outputs": [
    {
     "data": {
      "text/plain": [
       "'tak_SDI.html'"
      ]
     },
     "execution_count": 15,
     "metadata": {},
     "output_type": "execute_result"
    }
   ],
   "source": [
    "trace1 = go.Scatter(\n",
    "    x=df.index,\n",
    "    y=df['증설탁도'],\n",
    "    name='증설탁도',\n",
    "    mode = 'markers',\n",
    "    opacity = 0.7\n",
    ")\n",
    "trace2 = go.Scatter(\n",
    "    x=df.index,\n",
    "    y=df['전처리수SDI'],\n",
    "    name='전처리수SDI',\n",
    "    yaxis='y2',\n",
    "    mode = 'markers',\n",
    "    opacity = 0.7\n",
    ")\n",
    "\n",
    "data = [trace1, trace2]\n",
    "\n",
    "layout = go.Layout(\n",
    "    title='탁도 / SDI',\n",
    "    yaxis=dict(\n",
    "        title='탁도'\n",
    "    ),\n",
    "    yaxis2=dict(\n",
    "        title='SDI',\n",
    "        titlefont=dict(color='rgb(148, 103, 189)'),\n",
    "        tickfont=dict(color='rgb(148, 103, 189)'),\n",
    "        overlaying='y',\n",
    "        side='right'\n",
    "    )\n",
    ")\n",
    "fig = go.Figure(data=data, layout=layout)\n",
    "\n",
    "plot(fig, filename='tak_SDI.html') #offline 그래프 생성"
   ]
  },
  {
   "cell_type": "code",
   "execution_count": null,
   "metadata": {},
   "outputs": [],
   "source": []
  }
 ],
 "metadata": {
  "kernelspec": {
   "display_name": "Python 3",
   "language": "python",
   "name": "python3"
  },
  "language_info": {
   "codemirror_mode": {
    "name": "ipython",
    "version": 3
   },
   "file_extension": ".py",
   "mimetype": "text/x-python",
   "name": "python",
   "nbconvert_exporter": "python",
   "pygments_lexer": "ipython3",
   "version": "3.6.8"
  }
 },
 "nbformat": 4,
 "nbformat_minor": 2
}
